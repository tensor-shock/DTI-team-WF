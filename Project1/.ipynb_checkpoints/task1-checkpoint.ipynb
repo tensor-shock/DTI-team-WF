{
 "cells": [
  {
   "cell_type": "code",
   "execution_count": 1,
   "metadata": {},
   "outputs": [],
   "source": [
    "import cv2\n",
    "import numpy as np\n",
    "from matplotlib import pyplot as plt"
   ]
  },
  {
   "cell_type": "code",
   "execution_count": 8,
   "metadata": {},
   "outputs": [],
   "source": [
    "img = cv2.imread('fc5.png')"
   ]
  },
  {
   "cell_type": "code",
   "execution_count": 3,
   "metadata": {},
   "outputs": [],
   "source": [
    "# img2 = cv2.cvtColor(img, cv2.COLOR_BGR2GRAY)\n",
    "# ret, img = cv2.threshold(img, 127, 255, cv2.THRESH_BINARY)"
   ]
  },
  {
   "cell_type": "code",
   "execution_count": 4,
   "metadata": {},
   "outputs": [],
   "source": [
    "gray = cv2.cvtColor(img, cv2.COLOR_BGR2GRAY)\n",
    "  \n",
    "# setting threshold of gray image\n",
    "_, threshold = cv2.threshold(gray, 127, 255, cv2.THRESH_BINARY)\n",
    "  \n",
    "# using a findContours() function\n",
    "contours, _ = cv2.findContours(\n",
    "    threshold, cv2.RETR_TREE, cv2.CHAIN_APPROX_SIMPLE)\n",
    "i = 0\n",
    "  \n",
    "# list for storing names of shapes\n",
    "for contour in contours:\n",
    "  \n",
    "    # here we are ignoring first counter because \n",
    "    # findcontour function detects whole image as shape\n",
    "    if i == 0:\n",
    "        i = 1\n",
    "        continue\n",
    "  \n",
    "    # cv2.approxPloyDP() function to approximate the shape\n",
    "    approx = cv2.approxPolyDP(\n",
    "        contour, 0.01 * cv2.arcLength(contour, True), True)\n",
    "      \n",
    "    # using drawContours() function\n",
    "    cv2.drawContours(img, [contour], 0, (0, 0, 255), 5)\n",
    "  \n",
    "    # finding center point of shape\n",
    "    M = cv2.moments(contour)\n",
    "    if M['m00'] != 0.0:\n",
    "        x = int(M['m10']/M['m00'])\n",
    "        y = int(M['m01']/M['m00'])\n",
    "  \n",
    "    # putting shape name at center of each shape\n",
    "    if len(approx) == 3:\n",
    "        cv2.putText(img, 'Triangle', (x, y),\n",
    "                    cv2.FONT_HERSHEY_SIMPLEX, 0.6, (0, 255, 255), 2)\n",
    "  \n",
    "    elif len(approx) == 4:\n",
    "        cv2.putText(img, 'Quadrilateral', (x, y),\n",
    "                    cv2.FONT_HERSHEY_SIMPLEX, 0.6, (0, 255, 255), 2)\n",
    "  \n",
    "    elif len(approx) == 5:\n",
    "        cv2.putText(img, 'Pentagon', (x, y),\n",
    "                    cv2.FONT_HERSHEY_SIMPLEX, 0.6, (0, 255, 255), 2)\n",
    "  \n",
    "    elif len(approx) == 6:\n",
    "        cv2.putText(img, 'Hexagon', (x, y),\n",
    "                    cv2.FONT_HERSHEY_SIMPLEX, 0.6, (0, 255, 255), 2)\n",
    "  \n",
    "    else:\n",
    "        cv2.putText(img, 'circle', (x, y),\n",
    "                    cv2.FONT_HERSHEY_SIMPLEX, 0.6, (0, 255, 255), 2)"
   ]
  },
  {
   "cell_type": "code",
   "execution_count": null,
   "metadata": {},
   "outputs": [],
   "source": []
  },
  {
   "cell_type": "code",
   "execution_count": 9,
   "metadata": {},
   "outputs": [],
   "source": [
    "\n",
    "cv2.imshow('image', img)\n",
    "  \n",
    "cv2.waitKey(0)\n",
    "cv2.destroyAllWindows()"
   ]
  },
  {
   "cell_type": "code",
   "execution_count": null,
   "metadata": {},
   "outputs": [],
   "source": []
  }
 ],
 "metadata": {
  "kernelspec": {
   "display_name": "Python 3",
   "language": "python",
   "name": "python3"
  },
  "language_info": {
   "codemirror_mode": {
    "name": "ipython",
    "version": 3
   },
   "file_extension": ".py",
   "mimetype": "text/x-python",
   "name": "python",
   "nbconvert_exporter": "python",
   "pygments_lexer": "ipython3",
   "version": "3.8.8"
  }
 },
 "nbformat": 4,
 "nbformat_minor": 2
}
